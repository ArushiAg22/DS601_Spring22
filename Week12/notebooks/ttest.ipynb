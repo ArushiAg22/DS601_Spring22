{
 "cells": [
  {
   "cell_type": "code",
   "execution_count": 1,
   "metadata": {},
   "outputs": [],
   "source": [
    "import pandas as pd\n",
    "\n",
    "from scipy.stats import ttest_ind, norm\n",
    "from matplotlib import pyplot as plt"
   ]
  },
  {
   "cell_type": "code",
   "execution_count": 2,
   "metadata": {},
   "outputs": [
    {
     "data": {
      "text/plain": [
       "array([  4.29078155,   9.53374499,  -7.72992414,  23.18157695,\n",
       "       -10.0470866 ,  -3.912112  ,   6.29022228,  -1.8913453 ,\n",
       "        -0.23544981,   3.62839149,   3.86207044,  11.87139258,\n",
       "         2.55541222,  13.73895554,  -2.51256656,  12.90848224,\n",
       "         7.13039593,   1.30427264,   3.37623873,   7.45568437,\n",
       "        17.36657594,  -8.76210354, -17.45573976,  39.62716768,\n",
       "        17.62676882,  11.28205512,   9.37363236,  -8.49320383,\n",
       "         6.01457371,  -0.61634123,   4.3584364 ,   3.20694756,\n",
       "       -21.40720424,   3.35289644,  10.36518807,  -5.63058241,\n",
       "        12.56968381,  12.53082639,  16.52268928,  -4.49591996,\n",
       "         6.2055543 ,   6.84848151,  -5.45638302,   9.67372264,\n",
       "         3.40170325,  23.61656663,  16.62165701,  15.54410192,\n",
       "         4.84408554,   8.22829258, -14.12559438,   5.17959076,\n",
       "         2.94076316,  -3.48044454,  18.27762698,  -3.29744817,\n",
       "       -14.95334107,   1.22130487, -18.97627166,  -0.81457895,\n",
       "        -6.04417903,   1.98362713,   0.76000982,   8.5877317 ,\n",
       "         0.73169105,  15.74863897,  12.92239783,   6.32602036,\n",
       "        -0.41293727, -12.77650962,  10.86651097,  15.80984891,\n",
       "         1.29132106,   3.17360634,   2.07503243,  -3.83401076,\n",
       "        -1.92811095,   7.23066442,   2.58970091,  12.58071078,\n",
       "        -4.55983803,  17.97973379,  -3.83047587,  -1.61491751,\n",
       "        -6.40573757,  -3.74470835,  16.23499632,  -4.19338302,\n",
       "         8.37240382,  -8.65843686,  14.95857346,  -7.4289722 ,\n",
       "         6.82734802,  -0.60568689,  -1.36136288,  -7.37842026,\n",
       "        11.89222815,   8.44814012,   2.39040647, -30.78384461,\n",
       "        -4.19278786,   8.79380954,  -7.65391102,   3.3396857 ,\n",
       "         7.09417115,  17.64091219,  18.51127741,   9.95514083,\n",
       "         4.28482923,  -5.45436427,   2.76703594,   1.29481925,\n",
       "        17.351407  ,   7.87304898,  -0.73671429,  -6.88776597,\n",
       "        -4.57406445,   2.80271875,  -2.2809796 ,  -3.27165485,\n",
       "        20.7606233 ,   4.93681287,  -1.78636674,  29.46122423,\n",
       "        -4.02989394,   7.8181049 ,   3.15398197,  -2.95674061,\n",
       "        -7.56449804,  17.63278519,  12.20403859,   8.3245385 ,\n",
       "        23.07162709,  13.4569107 ,   6.68621546,  -0.42803661,\n",
       "        13.80580441,  18.77432936,  30.01280206, -15.7713043 ,\n",
       "        10.14876944,  16.25563095,  35.97176537,  -3.94642339,\n",
       "        -8.47389963,  -0.61316073,  10.02209103,  -1.13855724,\n",
       "        19.1352048 ,  20.43613632,  -1.44452328,   8.82725897,\n",
       "        11.60048069,  -8.76970573,  25.68903565,   3.9658327 ,\n",
       "         1.71588648,  22.30756174,   9.73744448,  12.15277473,\n",
       "         6.31698134,  15.97258913,  19.23758689,   4.46377573,\n",
       "         3.11535307,   5.6883375 ,  15.85735977,   5.0972966 ,\n",
       "        -8.33964752,   3.41056131,  11.50304226,  10.8426873 ,\n",
       "        11.00106007,   1.21471694,  -7.18702173,  10.66653748,\n",
       "         9.98228762,   1.99628799,  16.41460195,  -3.03426011,\n",
       "        13.24849272,  14.31291981,  -3.05430645,  -0.45490525,\n",
       "        -4.53288978,   3.48439956,   9.19845449,   4.58845246,\n",
       "         9.38306739,  13.67215587,  -4.5864067 ,   9.4213392 ,\n",
       "         7.16580375,   0.12896813,  -6.7824652 ,  13.29407028,\n",
       "         9.16440701,  12.67317803,  20.71153386,  -2.58221357,\n",
       "        12.85342324,  -1.87252589,  13.692647  ,   7.5952056 ,\n",
       "        -0.87570347,   8.33723007,  -3.21042691,  16.65967688,\n",
       "        10.84877668,  17.91702665,  13.07194651, -12.50711038,\n",
       "        17.46913754,  13.62379979,  -1.00628909,   8.93799032,\n",
       "        25.75877887,  -1.58276967,  -1.665784  ,   6.45074467,\n",
       "        -0.60399583,   2.61971628,   6.19442785,  -8.27373699,\n",
       "         2.70613998,  22.26649285, -10.05637808, -15.06778027,\n",
       "        -5.62077775,  -8.08438657,   5.07939336,   1.27854453,\n",
       "         8.85353801,  -3.7104987 ,   2.87067059,   7.4230869 ,\n",
       "        23.35418594,  -4.45869947,  -7.89395605,  15.66701963,\n",
       "        13.2532106 ,  13.61216668, -17.59839783, -14.32294234,\n",
       "        10.01613031,   4.44738161,   3.53248892,  -4.25571116,\n",
       "        10.83010991,   3.30254269,   1.39010314,  -0.21710561,\n",
       "         8.64253113,   4.71547155,  20.02089537,  15.11889927,\n",
       "         7.16976758,   0.92740073,  -5.32002484,   3.65574595,\n",
       "        -4.70629908,   1.24599665,   5.98375501,  -5.40315316,\n",
       "        14.1488031 ,  20.16812349,  -3.28206658,  -3.96699818,\n",
       "         2.46021953,  -5.74292107,  12.77187867,  -5.97819813,\n",
       "        10.78639616,  -1.85650469,   7.76283754,  -2.03689961,\n",
       "         8.9557198 ,   2.03162712,  11.65468034,   6.22430313,\n",
       "        -0.34156841,  -7.58524527,   1.8920338 , -16.72691055,\n",
       "        -0.69057853,  19.64725042,  16.77807972,  -3.60410699,\n",
       "       -16.33855894,   4.88753319,   8.54069063,   6.83615254,\n",
       "        -5.17948433,  14.6263969 ,   8.43234896,  -0.5820452 ,\n",
       "         3.58197285,   1.25649585,   3.28005256,   7.13723121,\n",
       "         6.16552681,   9.88809165,  -2.08392018,   5.32767211,\n",
       "         5.59767646,  -0.49235038,   2.80699897,  -7.92434886,\n",
       "        11.24859107, -11.36576543,  -2.2653121 ,  -5.40680161,\n",
       "        16.05588063,   6.71336349,  -2.76685579,  -3.13062821,\n",
       "        -3.15699948,  11.4919454 ,   7.12270532,  16.84381133,\n",
       "        18.05348006, -19.10217589,   8.74511735,  10.03367369,\n",
       "        18.49535142,  14.54438849,  17.65967387,  -8.93833703,\n",
       "         0.75829378,  17.18002761,   5.34048121,  14.92104604,\n",
       "        -3.10112244,  -7.09695258,  -2.52591469,   0.45489898,\n",
       "        27.38622076,   1.01646651,  -2.01582348,  -4.97670554,\n",
       "         0.76862453,  -4.37714051,   6.9819772 ,  17.30264192,\n",
       "        18.38595277,  -2.58416049,  20.36808158,  -6.33663121,\n",
       "        27.37208908,  -2.50868555,  22.49536813,  11.80188514,\n",
       "        -4.15418885,  22.4288846 ,   8.09323567,   3.19570683,\n",
       "        -7.15097227,   0.24163215,  -4.25106887,  -7.98214346,\n",
       "        19.2857114 ,   9.99303809,   2.15497502,   0.56086901,\n",
       "        -1.02828541,  -2.88803498,  12.71915119,   5.55680437,\n",
       "        10.75657881,  19.11492702,  -2.22968273,  -5.54759695,\n",
       "        11.74570851,   5.55326757,  10.64310871,   3.51536901,\n",
       "        -6.96144278, -10.13597532,   2.45152689,  -2.14503964,\n",
       "        13.31343731,  -4.00883842,  18.03788755,   2.16359487,\n",
       "        -0.16476961,   2.79537121, -15.08481632,   1.39281482,\n",
       "         6.545374  ,   3.64747277, -18.6181224 ,  18.03846617,\n",
       "        10.20333607,   7.20403629, -14.19050774,   9.48264832,\n",
       "        12.98421472,  -7.00411354,   4.32161028, -21.12879509,\n",
       "         6.54513571,   8.81260049,   4.63804204,  12.6881381 ,\n",
       "         2.05715414,  11.26476061,  -2.39157948,   4.4916249 ,\n",
       "        -4.24686815,   6.04582694,   7.88807796,  -1.04420233,\n",
       "        -9.33800347, -10.19089577, -13.47621699,   6.07707251,\n",
       "         2.37693935,   3.62057716,  -1.41362882,   9.29501184,\n",
       "        10.89783325,  -8.98507288,  23.77097634,   5.2832855 ,\n",
       "         8.23889446,   8.19058942,  14.08127215,   0.32784507,\n",
       "       -16.14787042,   4.49652548,  16.52081608,   7.22591402,\n",
       "         9.30387674,  18.63838722,   3.46285682,  16.22859355,\n",
       "        16.23509637,  -5.13463672,   6.37317478,   4.77651716,\n",
       "        -1.51313562,  -5.77016072,  12.44178864,   1.8048399 ,\n",
       "         6.54430611,  19.29331429,  -1.47192673,  19.14387553,\n",
       "        -0.72087596,  25.32179268,  -1.99474505,   9.68186015,\n",
       "        16.96150118,  -3.73545192,  -2.93486144,  -0.68585707,\n",
       "        10.07755156,   1.90832396,   7.86251996,   6.64704734,\n",
       "       -19.90349465,  10.86190078,  19.61532707,  16.33653379,\n",
       "         5.21956853, -10.15111928,   8.45495031, -14.25065842,\n",
       "        24.08663486,   9.10587377,  -4.21053281,   7.86227539,\n",
       "        16.50821427,  13.22540168,   1.09066559,  -1.87866899,\n",
       "        21.67764888,  16.97296858, -16.1037417 ,   8.85082925,\n",
       "         9.59398545,  -4.36813448,   2.98269222,   6.06140795,\n",
       "         7.10841117,  12.8834113 ,  15.96734525,  18.7932449 ,\n",
       "        13.76029957,  20.02079534,  12.0417869 ,   5.03849031,\n",
       "         7.72337671,  15.89472454,  13.58709989,  -6.27105714,\n",
       "        -7.96937384,   2.34083309,  14.05143132,  12.21265013])"
      ]
     },
     "execution_count": 2,
     "metadata": {},
     "output_type": "execute_result"
    }
   ],
   "source": [
    "rvs1 =  norm.rvs(loc=5,scale=10,size=500)\n",
    "rvs1"
   ]
  },
  {
   "cell_type": "code",
   "execution_count": 3,
   "metadata": {},
   "outputs": [],
   "source": [
    "rvs2 =  norm.rvs(loc=5,scale=10,size=1000)"
   ]
  },
  {
   "cell_type": "code",
   "execution_count": 4,
   "metadata": {},
   "outputs": [
    {
     "data": {
      "text/plain": [
       "(array([  1.,   4.,  30., 120., 200., 247., 229., 111.,  45.,  13.]),\n",
       " array([-32.15092764, -25.46697982, -18.783032  , -12.09908418,\n",
       "         -5.41513636,   1.26881146,   7.95275928,  14.63670709,\n",
       "         21.32065491,  28.00460273,  34.68855055]),\n",
       " <BarContainer object of 10 artists>)"
      ]
     },
     "execution_count": 4,
     "metadata": {},
     "output_type": "execute_result"
    },
    {
     "data": {
      "image/png": "[encoded data removed]",
      "text/plain": [
       "<Figure size 432x288 with 1 Axes>"
      ]
     },
     "metadata": {
      "needs_background": "light"
     },
     "output_type": "display_data"
    }
   ],
   "source": [
    "plt.hist(rvs1)\n",
    "plt.hist(rvs2, alpha=0.2)"
   ]
  },
  {
   "cell_type": "code",
   "execution_count": 5,
   "metadata": {},
   "outputs": [
    {
     "data": {
      "text/plain": [
       "Ttest_indResult(statistic=-0.7634929187175333, pvalue=0.445289708678539)"
      ]
     },
     "execution_count": 5,
     "metadata": {},
     "output_type": "execute_result"
    }
   ],
   "source": [
    "ttest_ind(rvs1, rvs2)"
   ]
  },
  {
   "cell_type": "code",
   "execution_count": 6,
   "metadata": {},
   "outputs": [],
   "source": [
    "df = pd.read_csv('https://raw.githubusercontent.com/msaricaumbc/DS_data/master/Part1_Crime_2017_to_2018.csv')"
   ]
  },
  {
   "cell_type": "code",
   "execution_count": 7,
   "metadata": {},
   "outputs": [
    {
     "data": {
      "text/plain": [
       "(100677, 19)"
      ]
     },
     "execution_count": 7,
     "metadata": {},
     "output_type": "execute_result"
    }
   ],
   "source": [
    "df.shape"
   ]
  },
  {
   "cell_type": "code",
   "execution_count": 8,
   "metadata": {},
   "outputs": [
    {
     "data": {
      "text/plain": [
       "objectid             int64\n",
       "rowid_               int64\n",
       "crimedatetime       object\n",
       "crimetime           object\n",
       "crimecode           object\n",
       "location            object\n",
       "description         object\n",
       "inside_outside      object\n",
       "weapon              object\n",
       "post               float64\n",
       "district            object\n",
       "neighborhood        object\n",
       "latitude           float64\n",
       "longitude          float64\n",
       "geolocation         object\n",
       "premise             object\n",
       "vriname             object\n",
       "total_incidents      int64\n",
       "hashedrecord        object\n",
       "dtype: object"
      ]
     },
     "execution_count": 8,
     "metadata": {},
     "output_type": "execute_result"
    }
   ],
   "source": [
    "df.dtypes"
   ]
  },
  {
   "cell_type": "code",
   "execution_count": 9,
   "metadata": {},
   "outputs": [],
   "source": [
    "df['crimedatetime'] = pd.to_datetime(df['crimedatetime'])"
   ]
  },
  {
   "cell_type": "code",
   "execution_count": 10,
   "metadata": {},
   "outputs": [
    {
     "data": {
      "text/html": [
       "<div>\n",
       "<style scoped>\n",
       "    .dataframe tbody tr th:only-of-type {\n",
       "        vertical-align: middle;\n",
       "    }\n",
       "\n",
       "    .dataframe tbody tr th {\n",
       "        vertical-align: top;\n",
       "    }\n",
       "\n",
       "    .dataframe thead th {\n",
       "        text-align: right;\n",
       "    }\n",
       "</style>\n",
       "<table border=\"1\" class=\"dataframe\">\n",
       "  <thead>\n",
       "    <tr style=\"text-align: right;\">\n",
       "      <th></th>\n",
       "      <th>0</th>\n",
       "      <th>1</th>\n",
       "      <th>2</th>\n",
       "    </tr>\n",
       "  </thead>\n",
       "  <tbody>\n",
       "    <tr>\n",
       "      <th>objectid</th>\n",
       "      <td>1</td>\n",
       "      <td>2</td>\n",
       "      <td>3</td>\n",
       "    </tr>\n",
       "    <tr>\n",
       "      <th>rowid_</th>\n",
       "      <td>82567</td>\n",
       "      <td>82568</td>\n",
       "      <td>82569</td>\n",
       "    </tr>\n",
       "    <tr>\n",
       "      <th>crimedatetime</th>\n",
       "      <td>2018-12-31 04:36:00</td>\n",
       "      <td>2018-12-31 17:30:00</td>\n",
       "      <td>2018-12-31 11:10:00</td>\n",
       "    </tr>\n",
       "    <tr>\n",
       "      <th>crimetime</th>\n",
       "      <td>4:36:00</td>\n",
       "      <td>17:30:00</td>\n",
       "      <td>11:10:00</td>\n",
       "    </tr>\n",
       "    <tr>\n",
       "      <th>crimecode</th>\n",
       "      <td>6G</td>\n",
       "      <td>6D</td>\n",
       "      <td>4E</td>\n",
       "    </tr>\n",
       "    <tr>\n",
       "      <th>location</th>\n",
       "      <td>400 W LEXINGTON ST</td>\n",
       "      <td>400 E 25TH ST</td>\n",
       "      <td>4200 FAIRFAX RD</td>\n",
       "    </tr>\n",
       "    <tr>\n",
       "      <th>description</th>\n",
       "      <td>LARCENY</td>\n",
       "      <td>LARCENY FROM AUTO</td>\n",
       "      <td>COMMON ASSAULT</td>\n",
       "    </tr>\n",
       "    <tr>\n",
       "      <th>inside_outside</th>\n",
       "      <td>I</td>\n",
       "      <td>O</td>\n",
       "      <td>I</td>\n",
       "    </tr>\n",
       "    <tr>\n",
       "      <th>weapon</th>\n",
       "      <td>NaN</td>\n",
       "      <td>NaN</td>\n",
       "      <td>NaN</td>\n",
       "    </tr>\n",
       "    <tr>\n",
       "      <th>post</th>\n",
       "      <td>114.0</td>\n",
       "      <td>513.0</td>\n",
       "      <td>624.0</td>\n",
       "    </tr>\n",
       "    <tr>\n",
       "      <th>district</th>\n",
       "      <td>CENTRAL</td>\n",
       "      <td>NORTHERN</td>\n",
       "      <td>NORTHWEST</td>\n",
       "    </tr>\n",
       "    <tr>\n",
       "      <th>neighborhood</th>\n",
       "      <td>DOWNTOWN</td>\n",
       "      <td>HARWOOD</td>\n",
       "      <td>WEST FOREST PARK</td>\n",
       "    </tr>\n",
       "    <tr>\n",
       "      <th>latitude</th>\n",
       "      <td>39.2916</td>\n",
       "      <td>39.3181</td>\n",
       "      <td>39.3204</td>\n",
       "    </tr>\n",
       "    <tr>\n",
       "      <th>longitude</th>\n",
       "      <td>-76.6211</td>\n",
       "      <td>-76.611</td>\n",
       "      <td>-76.6877</td>\n",
       "    </tr>\n",
       "    <tr>\n",
       "      <th>geolocation</th>\n",
       "      <td>(39.2916,-76.6211)</td>\n",
       "      <td>(39.3181,-76.611)</td>\n",
       "      <td>(39.3204,-76.6877)</td>\n",
       "    </tr>\n",
       "    <tr>\n",
       "      <th>premise</th>\n",
       "      <td>SPECIALTY STORE</td>\n",
       "      <td>STREET</td>\n",
       "      <td>APT/CONDO - OCCUPIED</td>\n",
       "    </tr>\n",
       "    <tr>\n",
       "      <th>vriname</th>\n",
       "      <td>NaN</td>\n",
       "      <td>NaN</td>\n",
       "      <td>NaN</td>\n",
       "    </tr>\n",
       "    <tr>\n",
       "      <th>total_incidents</th>\n",
       "      <td>1</td>\n",
       "      <td>1</td>\n",
       "      <td>1</td>\n",
       "    </tr>\n",
       "    <tr>\n",
       "      <th>hashedrecord</th>\n",
       "      <td>0xC961940C8A250EDAFFBB5E3D0E48727AC79817AE9EA6...</td>\n",
       "      <td>0x46FADA38EAC4E24AA9CCD81259651137A8073440F5F2...</td>\n",
       "      <td>0xFE7A5EDB382D00C6265CB48762D75AB7D2BC374871E8...</td>\n",
       "    </tr>\n",
       "  </tbody>\n",
       "</table>\n",
       "</div>"
      ],
      "text/plain": [
       "                                                                 0  \\\n",
       "objectid                                                         1   \n",
       "rowid_                                                       82567   \n",
       "crimedatetime                                  2018-12-31 04:36:00   \n",
       "crimetime                                                  4:36:00   \n",
       "crimecode                                                       6G   \n",
       "location                                        400 W LEXINGTON ST   \n",
       "description                                                LARCENY   \n",
       "inside_outside                                                   I   \n",
       "weapon                                                         NaN   \n",
       "post                                                         114.0   \n",
       "district                                                   CENTRAL   \n",
       "neighborhood                                              DOWNTOWN   \n",
       "latitude                                                   39.2916   \n",
       "longitude                                                 -76.6211   \n",
       "geolocation                                     (39.2916,-76.6211)   \n",
       "premise                                       SPECIALTY STORE        \n",
       "vriname                                                        NaN   \n",
       "total_incidents                                                  1   \n",
       "hashedrecord     0xC961940C8A250EDAFFBB5E3D0E48727AC79817AE9EA6...   \n",
       "\n",
       "                                                                 1  \\\n",
       "objectid                                                         2   \n",
       "rowid_                                                       82568   \n",
       "crimedatetime                                  2018-12-31 17:30:00   \n",
       "crimetime                                                 17:30:00   \n",
       "crimecode                                                       6D   \n",
       "location                                             400 E 25TH ST   \n",
       "description                                      LARCENY FROM AUTO   \n",
       "inside_outside                                                   O   \n",
       "weapon                                                         NaN   \n",
       "post                                                         513.0   \n",
       "district                                                  NORTHERN   \n",
       "neighborhood                                               HARWOOD   \n",
       "latitude                                                   39.3181   \n",
       "longitude                                                  -76.611   \n",
       "geolocation                                      (39.3181,-76.611)   \n",
       "premise                                       STREET                 \n",
       "vriname                                                        NaN   \n",
       "total_incidents                                                  1   \n",
       "hashedrecord     0x46FADA38EAC4E24AA9CCD81259651137A8073440F5F2...   \n",
       "\n",
       "                                                                 2  \n",
       "objectid                                                         3  \n",
       "rowid_                                                       82569  \n",
       "crimedatetime                                  2018-12-31 11:10:00  \n",
       "crimetime                                                 11:10:00  \n",
       "crimecode                                                       4E  \n",
       "location                                           4200 FAIRFAX RD  \n",
       "description                                         COMMON ASSAULT  \n",
       "inside_outside                                                   I  \n",
       "weapon                                                         NaN  \n",
       "post                                                         624.0  \n",
       "district                                                 NORTHWEST  \n",
       "neighborhood                                      WEST FOREST PARK  \n",
       "latitude                                                   39.3204  \n",
       "longitude                                                 -76.6877  \n",
       "geolocation                                     (39.3204,-76.6877)  \n",
       "premise                                       APT/CONDO - OCCUPIED  \n",
       "vriname                                                        NaN  \n",
       "total_incidents                                                  1  \n",
       "hashedrecord     0xFE7A5EDB382D00C6265CB48762D75AB7D2BC374871E8...  "
      ]
     },
     "execution_count": 10,
     "metadata": {},
     "output_type": "execute_result"
    }
   ],
   "source": [
    "df.head(3).T"
   ]
  },
  {
   "cell_type": "markdown",
   "metadata": {},
   "source": [
    "Hypothesis: There is no significant difference between crimes inside and outsides"
   ]
  },
  {
   "cell_type": "code",
   "execution_count": 11,
   "metadata": {},
   "outputs": [
    {
     "data": {
      "text/plain": [
       "O          40115\n",
       "I          38355\n",
       "Outside     1854\n",
       "Inside       176\n",
       "Name: inside_outside, dtype: int64"
      ]
     },
     "execution_count": 11,
     "metadata": {},
     "output_type": "execute_result"
    }
   ],
   "source": [
    "df['inside_outside'].value_counts()"
   ]
  },
  {
   "cell_type": "code",
   "execution_count": 12,
   "metadata": {},
   "outputs": [],
   "source": [
    "df['inside_outside'] = df['inside_outside'].replace({\n",
    "    'O': 'Outside', \n",
    "    'I':'Inside'\n",
    "})"
   ]
  },
  {
   "cell_type": "code",
   "execution_count": 13,
   "metadata": {},
   "outputs": [
    {
     "data": {
      "text/plain": [
       "Outside    41969\n",
       "Inside     38531\n",
       "Name: inside_outside, dtype: int64"
      ]
     },
     "execution_count": 13,
     "metadata": {},
     "output_type": "execute_result"
    }
   ],
   "source": [
    "df['inside_outside'].value_counts()"
   ]
  },
  {
   "cell_type": "code",
   "execution_count": null,
   "metadata": {},
   "outputs": [],
   "source": []
  },
  {
   "cell_type": "code",
   "execution_count": 14,
   "metadata": {},
   "outputs": [],
   "source": [
    "df['inside'] =  [1 if i=='Inside' else 0 for i in df['inside_outside']]\n",
    "df['outside'] = [1 if i=='Outside' else 0 for i in df['inside_outside']]"
   ]
  },
  {
   "cell_type": "code",
   "execution_count": 15,
   "metadata": {},
   "outputs": [
    {
     "data": {
      "text/html": [
       "<div>\n",
       "<style scoped>\n",
       "    .dataframe tbody tr th:only-of-type {\n",
       "        vertical-align: middle;\n",
       "    }\n",
       "\n",
       "    .dataframe tbody tr th {\n",
       "        vertical-align: top;\n",
       "    }\n",
       "\n",
       "    .dataframe thead th {\n",
       "        text-align: right;\n",
       "    }\n",
       "</style>\n",
       "<table border=\"1\" class=\"dataframe\">\n",
       "  <thead>\n",
       "    <tr style=\"text-align: right;\">\n",
       "      <th></th>\n",
       "      <th>objectid</th>\n",
       "      <th>rowid_</th>\n",
       "      <th>crimedatetime</th>\n",
       "      <th>crimetime</th>\n",
       "      <th>crimecode</th>\n",
       "      <th>location</th>\n",
       "      <th>description</th>\n",
       "      <th>inside_outside</th>\n",
       "      <th>weapon</th>\n",
       "      <th>post</th>\n",
       "      <th>...</th>\n",
       "      <th>neighborhood</th>\n",
       "      <th>latitude</th>\n",
       "      <th>longitude</th>\n",
       "      <th>geolocation</th>\n",
       "      <th>premise</th>\n",
       "      <th>vriname</th>\n",
       "      <th>total_incidents</th>\n",
       "      <th>hashedrecord</th>\n",
       "      <th>inside</th>\n",
       "      <th>outside</th>\n",
       "    </tr>\n",
       "  </thead>\n",
       "  <tbody>\n",
       "    <tr>\n",
       "      <th>0</th>\n",
       "      <td>1</td>\n",
       "      <td>82567</td>\n",
       "      <td>2018-12-31 04:36:00</td>\n",
       "      <td>4:36:00</td>\n",
       "      <td>6G</td>\n",
       "      <td>400 W LEXINGTON ST</td>\n",
       "      <td>LARCENY</td>\n",
       "      <td>Inside</td>\n",
       "      <td>NaN</td>\n",
       "      <td>114.0</td>\n",
       "      <td>...</td>\n",
       "      <td>DOWNTOWN</td>\n",
       "      <td>39.2916</td>\n",
       "      <td>-76.6211</td>\n",
       "      <td>(39.2916,-76.6211)</td>\n",
       "      <td>SPECIALTY STORE</td>\n",
       "      <td>NaN</td>\n",
       "      <td>1</td>\n",
       "      <td>0xC961940C8A250EDAFFBB5E3D0E48727AC79817AE9EA6...</td>\n",
       "      <td>1</td>\n",
       "      <td>0</td>\n",
       "    </tr>\n",
       "    <tr>\n",
       "      <th>1</th>\n",
       "      <td>2</td>\n",
       "      <td>82568</td>\n",
       "      <td>2018-12-31 17:30:00</td>\n",
       "      <td>17:30:00</td>\n",
       "      <td>6D</td>\n",
       "      <td>400 E 25TH ST</td>\n",
       "      <td>LARCENY FROM AUTO</td>\n",
       "      <td>Outside</td>\n",
       "      <td>NaN</td>\n",
       "      <td>513.0</td>\n",
       "      <td>...</td>\n",
       "      <td>HARWOOD</td>\n",
       "      <td>39.3181</td>\n",
       "      <td>-76.6110</td>\n",
       "      <td>(39.3181,-76.611)</td>\n",
       "      <td>STREET</td>\n",
       "      <td>NaN</td>\n",
       "      <td>1</td>\n",
       "      <td>0x46FADA38EAC4E24AA9CCD81259651137A8073440F5F2...</td>\n",
       "      <td>0</td>\n",
       "      <td>1</td>\n",
       "    </tr>\n",
       "    <tr>\n",
       "      <th>2</th>\n",
       "      <td>3</td>\n",
       "      <td>82569</td>\n",
       "      <td>2018-12-31 11:10:00</td>\n",
       "      <td>11:10:00</td>\n",
       "      <td>4E</td>\n",
       "      <td>4200 FAIRFAX RD</td>\n",
       "      <td>COMMON ASSAULT</td>\n",
       "      <td>Inside</td>\n",
       "      <td>NaN</td>\n",
       "      <td>624.0</td>\n",
       "      <td>...</td>\n",
       "      <td>WEST FOREST PARK</td>\n",
       "      <td>39.3204</td>\n",
       "      <td>-76.6877</td>\n",
       "      <td>(39.3204,-76.6877)</td>\n",
       "      <td>APT/CONDO - OCCUPIED</td>\n",
       "      <td>NaN</td>\n",
       "      <td>1</td>\n",
       "      <td>0xFE7A5EDB382D00C6265CB48762D75AB7D2BC374871E8...</td>\n",
       "      <td>1</td>\n",
       "      <td>0</td>\n",
       "    </tr>\n",
       "    <tr>\n",
       "      <th>3</th>\n",
       "      <td>4</td>\n",
       "      <td>82570</td>\n",
       "      <td>2018-12-31 19:45:00</td>\n",
       "      <td>19:45:00</td>\n",
       "      <td>4E</td>\n",
       "      <td>6500 SAINT HELENA AVE</td>\n",
       "      <td>COMMON ASSAULT</td>\n",
       "      <td>Inside</td>\n",
       "      <td>NaN</td>\n",
       "      <td>234.0</td>\n",
       "      <td>...</td>\n",
       "      <td>SAINT HELENA</td>\n",
       "      <td>39.2600</td>\n",
       "      <td>-76.5311</td>\n",
       "      <td>(39.26,-76.5311)</td>\n",
       "      <td>ROW/TOWNHOUSE-OCC</td>\n",
       "      <td>NaN</td>\n",
       "      <td>1</td>\n",
       "      <td>0xD60C2FB5283D72C29328A7DF528251D4B0F3EF0D9474...</td>\n",
       "      <td>1</td>\n",
       "      <td>0</td>\n",
       "    </tr>\n",
       "    <tr>\n",
       "      <th>4</th>\n",
       "      <td>5</td>\n",
       "      <td>82571</td>\n",
       "      <td>2018-12-31 22:43:00</td>\n",
       "      <td>22:43:00</td>\n",
       "      <td>4A</td>\n",
       "      <td>2400 W BELVEDERE AVE</td>\n",
       "      <td>AGG. ASSAULT</td>\n",
       "      <td>Inside</td>\n",
       "      <td>FIREARM</td>\n",
       "      <td>532.0</td>\n",
       "      <td>...</td>\n",
       "      <td>LEVINDALE</td>\n",
       "      <td>39.3545</td>\n",
       "      <td>-76.6623</td>\n",
       "      <td>(39.3545,-76.6623)</td>\n",
       "      <td>HOSP/NURS. HOME</td>\n",
       "      <td>NaN</td>\n",
       "      <td>1</td>\n",
       "      <td>0x3D27E5CF73522B733BA7EA512013FE1D8BE621801CC8...</td>\n",
       "      <td>1</td>\n",
       "      <td>0</td>\n",
       "    </tr>\n",
       "  </tbody>\n",
       "</table>\n",
       "<p>5 rows × 21 columns</p>\n",
       "</div>"
      ],
      "text/plain": [
       "   objectid  rowid_       crimedatetime crimetime crimecode  \\\n",
       "0         1   82567 2018-12-31 04:36:00   4:36:00        6G   \n",
       "1         2   82568 2018-12-31 17:30:00  17:30:00        6D   \n",
       "2         3   82569 2018-12-31 11:10:00  11:10:00        4E   \n",
       "3         4   82570 2018-12-31 19:45:00  19:45:00        4E   \n",
       "4         5   82571 2018-12-31 22:43:00  22:43:00        4A   \n",
       "\n",
       "                location        description inside_outside   weapon   post  \\\n",
       "0     400 W LEXINGTON ST            LARCENY         Inside      NaN  114.0   \n",
       "1          400 E 25TH ST  LARCENY FROM AUTO        Outside      NaN  513.0   \n",
       "2        4200 FAIRFAX RD     COMMON ASSAULT         Inside      NaN  624.0   \n",
       "3  6500 SAINT HELENA AVE     COMMON ASSAULT         Inside      NaN  234.0   \n",
       "4   2400 W BELVEDERE AVE       AGG. ASSAULT         Inside  FIREARM  532.0   \n",
       "\n",
       "   ...      neighborhood latitude  longitude         geolocation  \\\n",
       "0  ...          DOWNTOWN  39.2916   -76.6211  (39.2916,-76.6211)   \n",
       "1  ...           HARWOOD  39.3181   -76.6110   (39.3181,-76.611)   \n",
       "2  ...  WEST FOREST PARK  39.3204   -76.6877  (39.3204,-76.6877)   \n",
       "3  ...      SAINT HELENA  39.2600   -76.5311    (39.26,-76.5311)   \n",
       "4  ...         LEVINDALE  39.3545   -76.6623  (39.3545,-76.6623)   \n",
       "\n",
       "                premise vriname total_incidents  \\\n",
       "0  SPECIALTY STORE          NaN               1   \n",
       "1  STREET                   NaN               1   \n",
       "2  APT/CONDO - OCCUPIED     NaN               1   \n",
       "3     ROW/TOWNHOUSE-OCC     NaN               1   \n",
       "4       HOSP/NURS. HOME     NaN               1   \n",
       "\n",
       "                                        hashedrecord inside  outside  \n",
       "0  0xC961940C8A250EDAFFBB5E3D0E48727AC79817AE9EA6...      1        0  \n",
       "1  0x46FADA38EAC4E24AA9CCD81259651137A8073440F5F2...      0        1  \n",
       "2  0xFE7A5EDB382D00C6265CB48762D75AB7D2BC374871E8...      1        0  \n",
       "3  0xD60C2FB5283D72C29328A7DF528251D4B0F3EF0D9474...      1        0  \n",
       "4  0x3D27E5CF73522B733BA7EA512013FE1D8BE621801CC8...      1        0  \n",
       "\n",
       "[5 rows x 21 columns]"
      ]
     },
     "execution_count": 15,
     "metadata": {},
     "output_type": "execute_result"
    }
   ],
   "source": [
    "df.head()"
   ]
  },
  {
   "cell_type": "code",
   "execution_count": 16,
   "metadata": {},
   "outputs": [
    {
     "data": {
      "text/html": [
       "<div>\n",
       "<style scoped>\n",
       "    .dataframe tbody tr th:only-of-type {\n",
       "        vertical-align: middle;\n",
       "    }\n",
       "\n",
       "    .dataframe tbody tr th {\n",
       "        vertical-align: top;\n",
       "    }\n",
       "\n",
       "    .dataframe thead th {\n",
       "        text-align: right;\n",
       "    }\n",
       "</style>\n",
       "<table border=\"1\" class=\"dataframe\">\n",
       "  <thead>\n",
       "    <tr style=\"text-align: right;\">\n",
       "      <th></th>\n",
       "      <th>inside</th>\n",
       "      <th>outside</th>\n",
       "    </tr>\n",
       "    <tr>\n",
       "      <th>crimedatetime</th>\n",
       "      <th></th>\n",
       "      <th></th>\n",
       "    </tr>\n",
       "  </thead>\n",
       "  <tbody>\n",
       "    <tr>\n",
       "      <th>2017-01-01</th>\n",
       "      <td>66</td>\n",
       "      <td>62</td>\n",
       "    </tr>\n",
       "    <tr>\n",
       "      <th>2017-01-02</th>\n",
       "      <td>51</td>\n",
       "      <td>67</td>\n",
       "    </tr>\n",
       "    <tr>\n",
       "      <th>2017-01-03</th>\n",
       "      <td>40</td>\n",
       "      <td>38</td>\n",
       "    </tr>\n",
       "    <tr>\n",
       "      <th>2017-01-04</th>\n",
       "      <td>19</td>\n",
       "      <td>15</td>\n",
       "    </tr>\n",
       "    <tr>\n",
       "      <th>2017-01-05</th>\n",
       "      <td>17</td>\n",
       "      <td>21</td>\n",
       "    </tr>\n",
       "    <tr>\n",
       "      <th>...</th>\n",
       "      <td>...</td>\n",
       "      <td>...</td>\n",
       "    </tr>\n",
       "    <tr>\n",
       "      <th>2018-12-27</th>\n",
       "      <td>44</td>\n",
       "      <td>57</td>\n",
       "    </tr>\n",
       "    <tr>\n",
       "      <th>2018-12-28</th>\n",
       "      <td>57</td>\n",
       "      <td>65</td>\n",
       "    </tr>\n",
       "    <tr>\n",
       "      <th>2018-12-29</th>\n",
       "      <td>47</td>\n",
       "      <td>62</td>\n",
       "    </tr>\n",
       "    <tr>\n",
       "      <th>2018-12-30</th>\n",
       "      <td>48</td>\n",
       "      <td>59</td>\n",
       "    </tr>\n",
       "    <tr>\n",
       "      <th>2018-12-31</th>\n",
       "      <td>50</td>\n",
       "      <td>74</td>\n",
       "    </tr>\n",
       "  </tbody>\n",
       "</table>\n",
       "<p>730 rows × 2 columns</p>\n",
       "</div>"
      ],
      "text/plain": [
       "               inside  outside\n",
       "crimedatetime                 \n",
       "2017-01-01         66       62\n",
       "2017-01-02         51       67\n",
       "2017-01-03         40       38\n",
       "2017-01-04         19       15\n",
       "2017-01-05         17       21\n",
       "...               ...      ...\n",
       "2018-12-27         44       57\n",
       "2018-12-28         57       65\n",
       "2018-12-29         47       62\n",
       "2018-12-30         48       59\n",
       "2018-12-31         50       74\n",
       "\n",
       "[730 rows x 2 columns]"
      ]
     },
     "execution_count": 16,
     "metadata": {},
     "output_type": "execute_result"
    }
   ],
   "source": [
    "df_io = df[['inside', 'outside']].groupby(df['crimedatetime'].dt.date).sum() # this may be count if you are counting\n",
    "df_io"
   ]
  },
  {
   "cell_type": "code",
   "execution_count": 17,
   "metadata": {},
   "outputs": [
    {
     "data": {
      "text/plain": [
       "Ttest_indResult(statistic=-6.703280799283819, pvalue=2.9271019609461777e-11)"
      ]
     },
     "execution_count": 17,
     "metadata": {},
     "output_type": "execute_result"
    }
   ],
   "source": [
    "inside = df_io['inside']\n",
    "outside = df_io['outside']  \n",
    "ttest_ind(inside, outside , equal_var=False)"
   ]
  },
  {
   "cell_type": "markdown",
   "metadata": {},
   "source": [
    "pvalue is less than 0.05"
   ]
  },
  {
   "cell_type": "markdown",
   "metadata": {},
   "source": [
    "Let's do another example.\n",
    "\n",
    "Null hypothesis: There is no significance different between Hampden & Canton neighborhood in terms of weapon used crimes."
   ]
  },
  {
   "cell_type": "code",
   "execution_count": 18,
   "metadata": {},
   "outputs": [
    {
     "data": {
      "text/plain": [
       "FIREARM    11006\n",
       "OTHER       6477\n",
       "KNIFE       3346\n",
       "HANDS       1336\n",
       "FIRE         391\n",
       "Name: weapon, dtype: int64"
      ]
     },
     "execution_count": 18,
     "metadata": {},
     "output_type": "execute_result"
    }
   ],
   "source": [
    "df['weapon'].value_counts()"
   ]
  },
  {
   "cell_type": "code",
   "execution_count": 19,
   "metadata": {},
   "outputs": [],
   "source": [
    "df_weapon = df[df['weapon'].isna() == False]"
   ]
  },
  {
   "cell_type": "code",
   "execution_count": 20,
   "metadata": {},
   "outputs": [],
   "source": [
    "hampden = df_weapon[ df_weapon['neighborhood'] == 'HAMPDEN' ]\n",
    "canton = df_weapon[ df_weapon['neighborhood'] == 'CANTON' ]"
   ]
  },
  {
   "cell_type": "code",
   "execution_count": 21,
   "metadata": {},
   "outputs": [
    {
     "data": {
      "text/plain": [
       "crimedatetime\n",
       "2017-01-01    3\n",
       "2017-01-05    1\n",
       "2017-01-08    3\n",
       "2017-01-24    1\n",
       "2017-01-25    1\n",
       "             ..\n",
       "2018-12-12    1\n",
       "2018-12-15    1\n",
       "2018-12-16    1\n",
       "2018-12-18    4\n",
       "2018-12-30    1\n",
       "Name: weapon, Length: 106, dtype: int64"
      ]
     },
     "execution_count": 21,
     "metadata": {},
     "output_type": "execute_result"
    }
   ],
   "source": [
    "hampden_counts = hampden['weapon'].groupby( hampden['crimedatetime'].dt.date ).count()\n",
    "hampden_counts"
   ]
  },
  {
   "cell_type": "code",
   "execution_count": 22,
   "metadata": {},
   "outputs": [
    {
     "data": {
      "text/plain": [
       "crimedatetime\n",
       "2017-01-01    4\n",
       "2017-01-02    2\n",
       "2017-01-07    2\n",
       "2017-01-12    1\n",
       "2017-01-13    1\n",
       "             ..\n",
       "2018-12-18    1\n",
       "2018-12-26    1\n",
       "2018-12-29    1\n",
       "2018-12-30    2\n",
       "2018-12-31    1\n",
       "Name: weapon, Length: 133, dtype: int64"
      ]
     },
     "execution_count": 22,
     "metadata": {},
     "output_type": "execute_result"
    }
   ],
   "source": [
    "canton_counts = canton['weapon'].groupby( canton['crimedatetime'].dt.date ).count()\n",
    "canton_counts"
   ]
  },
  {
   "cell_type": "code",
   "execution_count": 23,
   "metadata": {},
   "outputs": [
    {
     "data": {
      "text/plain": [
       "Ttest_indResult(statistic=0.1379880975095151, pvalue=0.8904029753837779)"
      ]
     },
     "execution_count": 23,
     "metadata": {},
     "output_type": "execute_result"
    }
   ],
   "source": [
    "ttest_ind(hampden_counts, canton_counts, equal_var=False)"
   ]
  },
  {
   "cell_type": "code",
   "execution_count": null,
   "metadata": {},
   "outputs": [],
   "source": []
  }
 ],
 "metadata": {
  "kernelspec": {
   "display_name": "Python 3",
   "language": "python",
   "name": "python3"
  },
  "language_info": {
   "codemirror_mode": {
    "name": "ipython",
    "version": 3
   },
   "file_extension": ".py",
   "mimetype": "text/x-python",
   "name": "python",
   "nbconvert_exporter": "python",
   "pygments_lexer": "ipython3",
   "version": "3.8.8"
  },
  "toc": {
   "base_numbering": 1,
   "nav_menu": {},
   "number_sections": true,
   "sideBar": true,
   "skip_h1_title": false,
   "title_cell": "Table of Contents",
   "title_sidebar": "Contents",
   "toc_cell": false,
   "toc_position": {},
   "toc_section_display": true,
   "toc_window_display": false
  },
  "varInspector": {
   "cols": {
    "lenName": 16,
    "lenType": 16,
    "lenVar": 40
   },
   "kernels_config": {
    "python": {
     "delete_cmd_postfix": "",
     "delete_cmd_prefix": "del ",
     "library": "var_list.py",
     "varRefreshCmd": "print(var_dic_list())"
    },
    "r": {
     "delete_cmd_postfix": ") ",
     "delete_cmd_prefix": "rm(",
     "library": "var_list.r",
     "varRefreshCmd": "cat(var_dic_list()) "
    }
   },
   "types_to_exclude": [
    "module",
    "function",
    "builtin_function_or_method",
    "instance",
    "_Feature"
   ],
   "window_display": false
  }
 },
 "nbformat": 4,
 "nbformat_minor": 2
}
